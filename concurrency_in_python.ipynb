{
 "cells": [
  {
   "cell_type": "code",
   "execution_count": 23,
   "metadata": {},
   "outputs": [],
   "source": [
    "from datetime import datetime\n",
    "\n",
    "now = datetime.now()\n",
    "fmt = (\"It's %A, %B %d, %Y, local time %I:%M:%S%p\")\n",
    "\n",
    "current_date = now.strftime(fmt)\n",
    "\n",
    "with open('today.txt', 'w') as f:\n",
    "    f.write(current_date)\n"
   ]
  },
  {
   "cell_type": "code",
   "execution_count": 24,
   "metadata": {},
   "outputs": [],
   "source": [
    "with open('today.txt', 'r') as f:\n",
    "    today_string = f.read()"
   ]
  },
  {
   "cell_type": "code",
   "execution_count": 25,
   "metadata": {},
   "outputs": [
    {
     "name": "stdout",
     "output_type": "stream",
     "text": [
      "2023-05-08 12:45:37\n"
     ]
    }
   ],
   "source": [
    "saved_date = datetime.strptime(today_string, fmt)\n",
    "\n",
    "print(saved_date)"
   ]
  },
  {
   "cell_type": "code",
   "execution_count": null,
   "metadata": {},
   "outputs": [],
   "source": [
    "import multiprocessing as mp\n",
    "import random\n",
    "import time\n",
    "import datetime\n",
    "\n",
    "def waiting_time():\n",
    "    rnd_time = random.uniform(0,1)\n",
    "    time.sleep(rnd_time)\n",
    "    current_date = datetime.datetime.now()\n",
    "    print(f\"Current process is {rnd_time} at {current_date}\")\n",
    "    \n",
    "\n",
    "\n",
    "if __name__ == '__main__':\n",
    "    processes = [mp.Process(target = waiting_time) for i in range(3)]\n",
    "    for p in processes:\n",
    "        p.start()\n",
    "    for p in processes:\n",
    "        p.join()\n",
    "    "
   ]
  }
 ],
 "metadata": {
  "kernelspec": {
   "display_name": "Python 3",
   "language": "python",
   "name": "python3"
  },
  "language_info": {
   "codemirror_mode": {
    "name": "ipython",
    "version": 3
   },
   "file_extension": ".py",
   "mimetype": "text/x-python",
   "name": "python",
   "nbconvert_exporter": "python",
   "pygments_lexer": "ipython3",
   "version": "3.11.2"
  },
  "orig_nbformat": 4
 },
 "nbformat": 4,
 "nbformat_minor": 2
}
